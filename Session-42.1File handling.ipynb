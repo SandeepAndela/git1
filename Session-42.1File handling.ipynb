{
 "cells": [
  {
   "cell_type": "markdown",
   "id": "2826a2f9-3146-4d93-bf6d-5a3698de1fee",
   "metadata": {},
   "source": [
    "**File handling**"
   ]
  },
  {
   "cell_type": "markdown",
   "id": "589b2f86-334a-4214-b030-199042e58c4b",
   "metadata": {},
   "source": [
    "**Task**"
   ]
  },
  {
   "cell_type": "markdown",
   "id": "faa7cf2e-b27d-4cb8-bba6-0f27ca045927",
   "metadata": {},
   "source": [
    "- Get the package names to read each file"
   ]
  },
  {
   "cell_type": "code",
   "execution_count": null,
   "id": "986a6edb-dd4c-4d4e-b731-8d74c7324f87",
   "metadata": {},
   "outputs": [],
   "source": [
    "Apache spark  is big data\n",
    "pyspark like python\n",
    "\n",
    "big data ==== process time taken\n",
    "data bricks pyspark\n"
   ]
  },
  {
   "cell_type": "code",
   "execution_count": null,
   "id": "5f860caa-f45f-4699-8b9a-a16d07b04eaa",
   "metadata": {},
   "outputs": [],
   "source": [
    "**How to read the text file**\n",
    "\n",
    "- In order to read any file,we need 3 points\n",
    "- Where is the file located: dictionary or folder name\n",
    "   'C:\\Users\\Admin\\Documents'\n",
    "- What is the file name\n",
    "    '6pg_color_test'\n",
    "- What is the extension of the file \n",
    "      '.pdf'"
   ]
  },
  {
   "cell_type": "code",
   "execution_count": 7,
   "id": "f784006f-a16b-4f22-86f9-1f984f22b561",
   "metadata": {},
   "outputs": [
    {
     "ename": "AttributeError",
     "evalue": "module 'os' has no attribute 'cwd'",
     "output_type": "error",
     "traceback": [
      "\u001b[1;31m---------------------------------------------------------------------------\u001b[0m",
      "\u001b[1;31mAttributeError\u001b[0m                            Traceback (most recent call last)",
      "Cell \u001b[1;32mIn[7], line 10\u001b[0m\n\u001b[0;32m      1\u001b[0m \u001b[38;5;66;03m# How to read Text file\u001b[39;00m\n\u001b[0;32m      2\u001b[0m \u001b[38;5;66;03m# - In order to read any filre we need 3 points    ---> a) file location(folder/Dir name),  b) File Name, c) File Extension\u001b[39;00m\n\u001b[0;32m      3\u001b[0m \n\u001b[1;32m   (...)\u001b[0m\n\u001b[0;32m      6\u001b[0m \u001b[38;5;66;03m# Location:- 'C:\\Users\\Admin\\Documents'\u001b[39;00m\n\u001b[0;32m      7\u001b[0m \u001b[38;5;66;03m#F Extension:- .text\u001b[39;00m\n\u001b[0;32m      9\u001b[0m \u001b[38;5;28;01mimport\u001b[39;00m \u001b[38;5;21;01mos\u001b[39;00m\n\u001b[1;32m---> 10\u001b[0m os\u001b[38;5;241m.\u001b[39mcwd()\n",
      "\u001b[1;31mAttributeError\u001b[0m: module 'os' has no attribute 'cwd'"
     ]
    }
   ],
   "source": [
    "# How to read Text file\n",
    "# - In order to read any filre we need 3 points    ---> a) file location(folder/Dir name),  b) File Name, c) File Extension\n",
    "\n",
    "\n",
    "# File Name:mbox-short\n",
    "# Location:- 'C:\\Users\\Admin\\Documents'\n",
    "#F Extension:- .text\n",
    "\n",
    "import os\n",
    "os.cwd()"
   ]
  },
  {
   "cell_type": "code",
   "execution_count": 19,
   "id": "10674c2b-868d-4cf7-9f31-6ace4b2afd1b",
   "metadata": {},
   "outputs": [
    {
     "ename": "SyntaxError",
     "evalue": "(unicode error) 'unicodeescape' codec can't decode bytes in position 2-3: truncated \\UXXXXXXXX escape (2354783438.py, line 7)",
     "output_type": "error",
     "traceback": [
      "\u001b[1;36m  Cell \u001b[1;32mIn[19], line 7\u001b[1;36m\u001b[0m\n\u001b[1;33m    path=\"C:\\Users\\Admin\\Documents\\Text.txt\"\u001b[0m\n\u001b[1;37m         ^\u001b[0m\n\u001b[1;31mSyntaxError\u001b[0m\u001b[1;31m:\u001b[0m (unicode error) 'unicodeescape' codec can't decode bytes in position 2-3: truncated \\UXXXXXXXX escape\n"
     ]
    }
   ],
   "source": [
    "#'C:\\Users\\Admin\\Documents'\n",
    "#'6pg_color_test'\n",
    "#.pdf\n",
    "\n",
    "import os\n",
    "os.cwd()\n",
    "path=\"C:\\\\Users\\\\Admin\\\\Documents\\\\Text.txt\""
   ]
  },
  {
   "cell_type": "code",
   "execution_count": null,
   "id": "3d73c217-9308-4a1b-96a7-a5741c7f755b",
   "metadata": {},
   "outputs": [],
   "source": [
    " "
   ]
  }
 ],
 "metadata": {
  "kernelspec": {
   "display_name": "Python 3 (ipykernel)",
   "language": "python",
   "name": "python3"
  },
  "language_info": {
   "codemirror_mode": {
    "name": "ipython",
    "version": 3
   },
   "file_extension": ".py",
   "mimetype": "text/x-python",
   "name": "python",
   "nbconvert_exporter": "python",
   "pygments_lexer": "ipython3",
   "version": "3.12.7"
  }
 },
 "nbformat": 4,
 "nbformat_minor": 5
}
