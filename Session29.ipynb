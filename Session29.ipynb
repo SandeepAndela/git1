{
 "cells": [
  {
   "cell_type": "markdown",
   "id": "ef8b6174-e536-4a37-ab38-b5923b2344aa",
   "metadata": {},
   "source": [
    "- By default start value =start only\n",
    "- last value nothing mentioned automatically it will go till = last day\n",
    "- step nothing mentioned means , it is a positive direction and increment by 1"
   ]
  },
  {
   "cell_type": "code",
   "execution_count": 4,
   "id": "7fc11083-fcbc-412a-9119-898bd0dda18b",
   "metadata": {},
   "outputs": [
    {
     "data": {
      "text/plain": [
       "'how are you'"
      ]
     },
     "execution_count": 4,
     "metadata": {},
     "output_type": "execute_result"
    }
   ],
   "source": [
    "str1='Hai how are you'\n",
    "str1[4:]"
   ]
  },
  {
   "cell_type": "markdown",
   "id": "58488dcb-a278-4d79-95d6-26d8a48488a5",
   "metadata": {},
   "source": [
    "$$Pattern-2$\n",
    "\n",
    "str1[start:stop]\n",
    "\n",
    "- start value means by default strat only \n",
    "- step is not mentioned positive direction"
   ]
  },
  {
   "cell_type": "code",
   "execution_count": 5,
   "id": "1729e099-0ffb-45ca-9b7b-7865e30a9b35",
   "metadata": {},
   "outputs": [
    {
     "data": {
      "text/plain": [
       "'ow are yo'"
      ]
     },
     "execution_count": 5,
     "metadata": {},
     "output_type": "execute_result"
    }
   ],
   "source": [
    "str1='Hai how are you'\n",
    "str1[5:14]"
   ]
  },
  {
   "cell_type": "code",
   "execution_count": 6,
   "id": "bdcb6766-97c2-4045-ad82-1fd50883d145",
   "metadata": {},
   "outputs": [
    {
     "data": {
      "text/plain": [
       "'e yo'"
      ]
     },
     "execution_count": 6,
     "metadata": {},
     "output_type": "execute_result"
    }
   ],
   "source": [
    "str1='Hai how are you'\n",
    "str1[-5:14]"
   ]
  },
  {
   "cell_type": "code",
   "execution_count": 7,
   "id": "5444d22b-b2e9-40f5-b20f-5aaa147ff947",
   "metadata": {},
   "outputs": [
    {
     "data": {
      "text/plain": [
       "'e you'"
      ]
     },
     "execution_count": 7,
     "metadata": {},
     "output_type": "execute_result"
    }
   ],
   "source": [
    "str1='Hai how are you'\n",
    "str1[-5:20]"
   ]
  },
  {
   "cell_type": "code",
   "execution_count": null,
   "id": "6e291b64-2559-4a2a-a7ef-2236773bfd63",
   "metadata": {},
   "outputs": [],
   "source": [
    "**Truncation behaviour**\n",
    "- When ever string range is limited,but we provided unlimited number\n",
    "- string will consider till the range we have \n",
    "- in the above example our range only 15 letters\n",
    "- we provided"
   ]
  }
 ],
 "metadata": {
  "kernelspec": {
   "display_name": "Python 3 (ipykernel)",
   "language": "python",
   "name": "python3"
  },
  "language_info": {
   "codemirror_mode": {
    "name": "ipython",
    "version": 3
   },
   "file_extension": ".py",
   "mimetype": "text/x-python",
   "name": "python",
   "nbconvert_exporter": "python",
   "pygments_lexer": "ipython3",
   "version": "3.12.4"
  }
 },
 "nbformat": 4,
 "nbformat_minor": 5
}
