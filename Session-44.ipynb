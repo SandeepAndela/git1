{
 "cells": [
  {
   "cell_type": "code",
   "execution_count": 1,
   "id": "c2672e99-1cd6-4d12-b820-45c64c203a2a",
   "metadata": {},
   "outputs": [
    {
     "ename": "UnicodeDecodeError",
     "evalue": "'charmap' codec can't decode byte 0x90 in position 8877: character maps to <undefined>",
     "output_type": "error",
     "traceback": [
      "\u001b[1;31m---------------------------------------------------------------------------\u001b[0m",
      "\u001b[1;31mUnicodeDecodeError\u001b[0m                        Traceback (most recent call last)",
      "Cell \u001b[1;32mIn[1], line 3\u001b[0m\n\u001b[0;32m      1\u001b[0m path\u001b[38;5;241m=\u001b[39m\u001b[38;5;124mr\u001b[39m\u001b[38;5;124m\"\u001b[39m\u001b[38;5;124mC:\u001b[39m\u001b[38;5;124m\\\u001b[39m\u001b[38;5;124mUsers\u001b[39m\u001b[38;5;124m\\\u001b[39m\u001b[38;5;124mAdmin\u001b[39m\u001b[38;5;124m\\\u001b[39m\u001b[38;5;124mDesktop\u001b[39m\u001b[38;5;124m\\\u001b[39m\u001b[38;5;124mA4 word.doc\u001b[39m\u001b[38;5;124m\"\u001b[39m\n\u001b[0;32m      2\u001b[0m file\u001b[38;5;241m=\u001b[39m\u001b[38;5;28mopen\u001b[39m(path)\n\u001b[1;32m----> 3\u001b[0m data\u001b[38;5;241m=\u001b[39mfile\u001b[38;5;241m.\u001b[39mread()\n\u001b[0;32m      4\u001b[0m \u001b[38;5;28mprint\u001b[39m(data)\n",
      "File \u001b[1;32m~\\anaconda3\\Lib\\encodings\\cp1252.py:23\u001b[0m, in \u001b[0;36mIncrementalDecoder.decode\u001b[1;34m(self, input, final)\u001b[0m\n\u001b[0;32m     22\u001b[0m \u001b[38;5;28;01mdef\u001b[39;00m \u001b[38;5;21mdecode\u001b[39m(\u001b[38;5;28mself\u001b[39m, \u001b[38;5;28minput\u001b[39m, final\u001b[38;5;241m=\u001b[39m\u001b[38;5;28;01mFalse\u001b[39;00m):\n\u001b[1;32m---> 23\u001b[0m     \u001b[38;5;28;01mreturn\u001b[39;00m codecs\u001b[38;5;241m.\u001b[39mcharmap_decode(\u001b[38;5;28minput\u001b[39m,\u001b[38;5;28mself\u001b[39m\u001b[38;5;241m.\u001b[39merrors,decoding_table)[\u001b[38;5;241m0\u001b[39m]\n",
      "\u001b[1;31mUnicodeDecodeError\u001b[0m: 'charmap' codec can't decode byte 0x90 in position 8877: character maps to <undefined>"
     ]
    }
   ],
   "source": [
    "path=r\"C:\\Users\\Admin\\Desktop\\A4 word.doc\"\n",
    "file=open(path)\n",
    "data=file.read()\n",
    "print(data)"
   ]
  },
  {
   "cell_type": "markdown",
   "id": "9d14bb16-9427-4d1d-ada2-0cb7a898e62f",
   "metadata": {},
   "source": [
    "$Method-3$\n",
    "\n",
    "Using With keyboard"
   ]
  },
  {
   "cell_type": "markdown",
   "id": "f840ca9a-bcc7-4fc9-9bb4-522bd6c946ba",
   "metadata": {},
   "source": [
    "- When we use open and read in different lines\n",
    "- Python indirectly takes the session approach\n",
    "- The sessiom will close after some time\n",
    "- The stored data will not able to use\n",
    "- We need to perform the same operations under session\n",
    "- By using with keyword"
   ]
  },
  {
   "cell_type": "code",
   "execution_count": 10,
   "id": "7706a6a0-192d-444b-8ded-81c4fac66ed2",
   "metadata": {},
   "outputs": [
    {
     "name": "stdout",
     "output_type": "stream",
     "text": [
      "HP LaserJet Flow 8601\n",
      "\n",
      "\n",
      "\n",
      "\n",
      "Total Time taken on Execution: 35 mins\n",
      "Environment setup time: 5 mins\n",
      "Device setup time: 5 min\n",
      "Execution time: 25 mins\n",
      "\n",
      "Product model name: HP LaserJet Flow 8601\n",
      "FW Version: 2508379_053537\n",
      "Hp Smart Mac Version : 17.30.1.2909\n",
      "\n",
      "\n",
      "\n",
      "\n",
      "Total Time taken on Execution: 1day 4hrs\n",
      "Environment setup time: 20 min\n",
      "Device setup time: 10 min\n",
      "Execution time: 1 day 210 min\n",
      "\n",
      "Product Model Name: HP Color LaserJet Flow MFP M776  \n",
      "Device name: Keystone\n",
      "FW Version: 2508376_053356\n",
      "\n",
      "\n",
      "Total Time taken on Execution: 3,360 min\n",
      "Environment setup time: 0mins\n",
      "Device setup time: 0 min\n",
      "Execution time: 3,360 min\n",
      "\n",
      "Product Model Name: HP Color LaserJet M856\n",
      "Device name: Nagano\n",
      "Firmware Revision: 2508376_053343\n",
      "\n"
     ]
    }
   ],
   "source": [
    "path=r\"C:\\Users\\Admin\\Desktop\\HP LaserJet Flow 8601.txt\"\n",
    "file=open(path)\n",
    "data=file.read()\n",
    "print(data)"
   ]
  },
  {
   "cell_type": "code",
   "execution_count": 16,
   "id": "f8899310-a986-46e0-9a6e-bcd570acd757",
   "metadata": {},
   "outputs": [
    {
     "name": "stdout",
     "output_type": "stream",
     "text": [
      "HP LaserJet Flow 8601\n",
      "\n",
      "\n",
      "\n",
      "\n",
      "Total Time taken on Execution: 35 mins\n",
      "Environment setup time: 5 mins\n",
      "Device setup time: 5 min\n",
      "Execution time: 25 mins\n",
      "\n",
      "Product model name: HP LaserJet Flow 8601\n",
      "FW Version: 2508379_053537\n",
      "Hp Smart Mac Version : 17.30.1.2909\n",
      "\n",
      "\n",
      "\n",
      "\n",
      "Total Time taken on Execution: 1day 4hrs\n",
      "Environment setup time: 20 min\n",
      "Device setup time: 10 min\n",
      "Execution time: 1 day 210 min\n",
      "\n",
      "Product Model Name: HP Color LaserJet Flow MFP M776  \n",
      "Device name: Keystone\n",
      "FW Version: 2508376_053356\n",
      "\n",
      "\n",
      "Total Time taken on Execution: 3,360 min\n",
      "Environment setup time: 0mins\n",
      "Device setup time: 0 min\n",
      "Execution time: 3,360 min\n",
      "\n",
      "Product Model Name: HP Color LaserJet M856\n",
      "Device name: Nagano\n",
      "Firmware Revision: 2508376_053343\n",
      "\n"
     ]
    }
   ],
   "source": [
    "path=r\"C:\\Users\\Admin\\Desktop\\HP LaserJet Flow 8601.txt\"\n",
    "file=open(path)\n",
    "data=file.read()\n",
    "print(data)\n",
    "\n",
    "file=open(path)\n",
    "with open(path) as file:\n",
    "    data=file.read()\n",
    "    "
   ]
  },
  {
   "cell_type": "code",
   "execution_count": 18,
   "id": "15f922e8-244b-4030-8bb7-b9c7f7dfafd7",
   "metadata": {},
   "outputs": [],
   "source": [
    "path=r\"C:\\Users\\Admin\\Desktop\\HP LaserJet Flow 8601.txt\"\n",
    "with open(path) as file:\n",
    "    data=file.read()\n",
    "    "
   ]
  },
  {
   "cell_type": "code",
   "execution_count": 22,
   "id": "eb37153e-3611-4681-993c-224f1172bf9d",
   "metadata": {},
   "outputs": [
    {
     "name": "stdout",
     "output_type": "stream",
     "text": [
      "HP LaserJet Flow 8601\n",
      "\n",
      "\n",
      "\n",
      "\n",
      "Total Time taken on Execution: 35 mins\n",
      "Environment setup time: 5 mins\n",
      "Device setup time: 5 min\n",
      "Execution time: 25 mins\n",
      "\n",
      "Product model name: HP LaserJet Flow 8601\n",
      "FW Version: 2508379_053537\n",
      "Hp Smart Mac Version : 17.30.1.2909\n",
      "\n",
      "\n",
      "\n",
      "\n",
      "Total Time taken on Execution: 1day 4hrs\n",
      "Environment setup time: 20 min\n",
      "Device setup time: 10 min\n",
      "Execution time: 1 day 210 min\n",
      "\n",
      "Product Model Name: HP Color LaserJet Flow MFP M776  \n",
      "Device name: Keystone\n",
      "FW Version: 2508376_053356\n",
      "\n",
      "\n",
      "Total Time taken on Execution: 3,360 min\n",
      "Environment setup time: 0mins\n",
      "Device setup time: 0 min\n",
      "Execution time: 3,360 min\n",
      "\n",
      "Product Model Name: HP Color LaserJet M856\n",
      "Device name: Nagano\n",
      "Firmware Revision: 2508376_053343\n",
      "\n"
     ]
    }
   ],
   "source": [
    "print(data)"
   ]
  },
  {
   "cell_type": "code",
   "execution_count": null,
   "id": "9d442cef-8df0-444d-838d-43e1809dd3dd",
   "metadata": {},
   "outputs": [],
   "source": [
    "with <open command> as <Variable name>:\n",
    "    <read command>"
   ]
  },
  {
   "cell_type": "code",
   "execution_count": null,
   "id": "965aa107-deec-4ffa-a559-77b38152ae21",
   "metadata": {},
   "outputs": [],
   "source": [
    "path=r\"C:\\Users\\Admin\\Desktop\\HP LaserJet Flow 8601.txt\"\n",
    "with open(path) as file:\n",
    "    data=file.read()\n",
    "    "
   ]
  },
  {
   "cell_type": "code",
   "execution_count": 28,
   "id": "a77603a5-82a1-440e-bb62-61a8cfa45e69",
   "metadata": {},
   "outputs": [
    {
     "name": "stdout",
     "output_type": "stream",
     "text": [
      "HP LaserJet Flow 8601\n",
      "\n",
      "\n",
      "\n",
      "\n",
      "Total Time taken on Execution: 35 mins\n",
      "Environment setup time: 5 mins\n",
      "Device setup time: 5 min\n",
      "Execution time: 25 mins\n",
      "\n",
      "Product model name: HP LaserJet Flow 8601\n",
      "FW Version: 2508379_053537\n",
      "Hp Smart Mac Version : 17.30.1.2909\n",
      "\n",
      "\n",
      "\n",
      "\n",
      "Total Time taken on Execution: 1day 4hrs\n",
      "Environment setup time: 20 min\n",
      "Device setup time: 10 min\n",
      "Execution time: 1 day 210 min\n",
      "\n",
      "Product Model Name: HP Color LaserJet Flow MFP M776  \n",
      "Device name: Keystone\n",
      "FW Version: 2508376_053356\n",
      "\n",
      "\n",
      "Total Time taken on Execution: 3,360 min\n",
      "Environment setup time: 0mins\n",
      "Device setup time: 0 min\n",
      "Execution time: 3,360 min\n",
      "\n",
      "Product Model Name: HP Color LaserJet M856\n",
      "Device name: Nagano\n",
      "Firmware Revision: 2508376_053343\n",
      "\n"
     ]
    }
   ],
   "source": [
    "print(data)"
   ]
  },
  {
   "cell_type": "markdown",
   "id": "8cda401b-99a0-4a57-861c-b86cfd43ff76",
   "metadata": {},
   "source": [
    "**Encoding**\n",
    "\n",
    "- Encoding is a method ,to hide the characters for security purpose\n",
    "- When ever we read some file we have some spl characters\n",
    "- To avoid those we will use encoding argument while open the file path\n",
    "- we have so many encoding methods are there\n",
    "- **utf-8-sig** is one of the main encoding methods\n",
    "\n",
    "\n",
    "**Mode**\n",
    "- While encoding the file there is mode argument\n",
    "- By default mode='r' which means read\n",
    "- if you want to write mode ='w'\n",
    "\n",
    "\n",
    "**File not found error**\n",
    "- File not found error means,file is not available in the given path\n",
    "- This is competely our job: This error made by us only\n",
    "- Go to that path,check the file name in that location\n",
    "\n",
    "\n",
    "**Permission error**\n",
    "\n",
    "- The file we are using in python is already opened in your laptop\n",
    "- You might be see or migh not able to see\n",
    "- If you see the file opened,then close the file localy then start read\n",
    "- if you dont see the opened file,restart the computer\n",
    "- Again open only jupyter notebook and execute the cell\n"
   ]
  },
  {
   "cell_type": "code",
   "execution_count": 33,
   "id": "bca941c0-bb20-4554-90f6-fdfce3c692c7",
   "metadata": {},
   "outputs": [
    {
     "name": "stdout",
     "output_type": "stream",
     "text": [
      "HP LaserJet Flow 8601\n",
      "\n",
      "\n",
      "\n",
      "\n",
      "Total Time taken on Execution: 35 mins\n",
      "Environment setup time: 5 mins\n",
      "Device setup time: 5 min\n",
      "Execution time: 25 mins\n",
      "\n",
      "Product model name: HP LaserJet Flow 8601\n",
      "FW Version: 2508379_053537\n",
      "Hp Smart Mac Version : 17.30.1.2909\n",
      "\n",
      "\n",
      "\n",
      "\n",
      "Total Time taken on Execution: 1day 4hrs\n",
      "Environment setup time: 20 min\n",
      "Device setup time: 10 min\n",
      "Execution time: 1 day 210 min\n",
      "\n",
      "Product Model Name: HP Color LaserJet Flow MFP M776  \n",
      "Device name: Keystone\n",
      "FW Version: 2508376_053356\n",
      "\n",
      "\n",
      "Total Time taken on Execution: 3,360 min\n",
      "Environment setup time: 0mins\n",
      "Device setup time: 0 min\n",
      "Execution time: 3,360 min\n",
      "\n",
      "Product Model Name: HP Color LaserJet M856\n",
      "Device name: Nagano\n",
      "Firmware Revision: 2508376_053343\n",
      "\n"
     ]
    }
   ],
   "source": [
    "path=r\"C:\\Users\\Admin\\Desktop\\HP LaserJet Flow 8601.txt\"\n",
    "with open(path,\n",
    "          mode='r',\n",
    "          encoding='utf-8-sig') as file:\n",
    "    data=file.read()\n",
    "print(data)"
   ]
  },
  {
   "cell_type": "markdown",
   "id": "fe66ee2d-7f8d-4f70-8f4f-a0b080d62311",
   "metadata": {},
   "source": [
    " **Write the file**"
   ]
  },
  {
   "cell_type": "code",
   "execution_count": 36,
   "id": "e7c6abee-e368-4d47-87c4-25d3542b2f32",
   "metadata": {},
   "outputs": [],
   "source": [
    "path=r\"C:\\Users\\Admin\\Desktop\\HP LaserJet Flow 8601.txt\"\n",
    "file=open(path)\n",
    "data=file.read()"
   ]
  },
  {
   "cell_type": "markdown",
   "id": "2743703b-0852-417c-9aa2-1b30c18ba7c7",
   "metadata": {},
   "source": [
    "- Write the file also samw way like read the file\n",
    "- **Check point number-1**\n",
    "     - What is the file name,ehich you want to Write some thing\n",
    "    - is that file existed in your laptop or not \n",
    "    - Generally we will give the new name,that is not existed in your laptop\n",
    "-  **Check point number-2**\n",
    "    - Choose the correct mode\n",
    "    - For writing we have many modes\n",
    "          -  mode='w': clear the existed data and overwrite with new data\n",
    "          -  mode='a' dont want clear old data,new data append with old data\n",
    "\n",
    "- **Check point number-3**\n",
    "   - For reading we will use read\n",
    "   - for writing we will use write"
   ]
  },
  {
   "cell_type": "code",
   "execution_count": 56,
   "id": "388972a5-8ff0-4040-8b7d-c1310f0d6f36",
   "metadata": {},
   "outputs": [
    {
     "data": {
      "text/plain": [
       "16"
      ]
     },
     "execution_count": 56,
     "metadata": {},
     "output_type": "execute_result"
    }
   ],
   "source": [
    "path=\"writefile1.txt\"\n",
    "file=open(path,mode='w')\n",
    "data=file.write(\"Hello this is DS\")\n",
    "data"
   ]
  },
  {
   "cell_type": "code",
   "execution_count": 58,
   "id": "5620d4f1-e574-4880-97ea-62f4f1de24ff",
   "metadata": {},
   "outputs": [
    {
     "data": {
      "text/plain": [
       "16"
      ]
     },
     "execution_count": 58,
     "metadata": {},
     "output_type": "execute_result"
    }
   ],
   "source": [
    "len(\"Hello this is DS\")"
   ]
  },
  {
   "cell_type": "code",
   "execution_count": 62,
   "id": "0ff7ab76-b585-49d8-a0cb-f5bf8127418c",
   "metadata": {},
   "outputs": [],
   "source": [
    "path=\"writefile1.txt\"\n",
    "with open(path,mode='w') as file:\n",
    "    file.write(\"Hello this is DS\")\n",
    "    file.write(\"if you dont follow\")"
   ]
  },
  {
   "cell_type": "markdown",
   "id": "da0c1f70-8402-4a01-95d7-2a5adeb11121",
   "metadata": {},
   "source": [
    "**Iterating each line using for loop**"
   ]
  },
  {
   "cell_type": "code",
   "execution_count": 80,
   "id": "eee9fb5e-0d2c-4f42-bfc5-822d03be27f3",
   "metadata": {},
   "outputs": [
    {
     "name": "stdout",
     "output_type": "stream",
     "text": [
      "HP LaserJet Flow 8601\n",
      "\n",
      "\n",
      "\n",
      "\n",
      "\n"
     ]
    }
   ],
   "source": [
    "path=r\"C:\\Users\\Admin\\Desktop\\HP LaserJet Flow 8601.txt\"\n",
    "file=open(path)\n",
    "data=file.read()\n",
    "for i in data:\n",
    "    print(i,end=\"\")"
   ]
  },
  {
   "cell_type": "code",
   "execution_count": 82,
   "id": "706fdb18-b182-41ff-be48-d92c8e7f96c2",
   "metadata": {},
   "outputs": [
    {
     "name": "stdout",
     "output_type": "stream",
     "text": [
      "H\n",
      "P\n",
      " \n",
      "L\n",
      "a\n",
      "s\n",
      "e\n",
      "r\n",
      "J\n",
      "e\n",
      "t\n",
      " \n",
      "F\n",
      "l\n",
      "o\n",
      "w\n",
      " \n",
      "8\n",
      "6\n",
      "0\n",
      "1\n",
      "\n",
      "\n",
      "\n",
      "\n",
      "\n",
      "\n",
      "\n",
      "\n",
      "\n",
      "\n",
      "\n",
      "\n"
     ]
    }
   ],
   "source": [
    "path=r\"C:\\Users\\Admin\\Desktop\\HP LaserJet Flow 8601.txt\"\n",
    "file=open(path)\n",
    "data=file.read()\n",
    "for i in data:\n",
    "    print(i)"
   ]
  },
  {
   "cell_type": "code",
   "execution_count": 86,
   "id": "f2ae66ba-7500-4988-80f3-448784d41275",
   "metadata": {},
   "outputs": [
    {
     "name": "stdout",
     "output_type": "stream",
     "text": [
      "HP\n",
      "LaserJet\n",
      "Flow\n",
      "8601\n",
      "path=r\"C:\\Users\\Admin\\Desktop\\HP\n",
      "LaserJet\n",
      "Flow\n",
      "8601.txt\"\n",
      "file=open(path)\n",
      "data=file.read()\n",
      "for\n",
      "i\n",
      "in\n",
      "data:\n",
      "print(i,end=\"\")\n"
     ]
    }
   ],
   "source": [
    "path=r\"C:\\Users\\Admin\\Desktop\\HP LaserJet Flow 8601.txt\"\n",
    "file=open(path)\n",
    "data=file.read()\n",
    "for i in data.split():\n",
    "    print(i)"
   ]
  },
  {
   "cell_type": "code",
   "execution_count": 88,
   "id": "64848031-78eb-470d-a467-9c4e2f791947",
   "metadata": {},
   "outputs": [
    {
     "name": "stdout",
     "output_type": "stream",
     "text": [
      "HP LaserJet Flow 8601\n",
      "\n",
      "\n",
      "\n",
      "\n",
      "path=r\"C:\\Users\\Admin\\Desktop\\HP LaserJet Flow 8601.txt\"\n",
      "file=open(path)\n",
      "data=file.read()\n",
      "for i in data:\n",
      "    print(i,end=\"\")\n",
      "\n"
     ]
    }
   ],
   "source": [
    "path=r\"C:\\Users\\Admin\\Desktop\\HP LaserJet Flow 8601.txt\"\n",
    "file=open(path)\n",
    "data=file.read()\n",
    "for i in data.split('\\n'):\n",
    "    print(i)"
   ]
  },
  {
   "cell_type": "code",
   "execution_count": 90,
   "id": "f3367078-5940-4752-b2eb-a8c7cc1d4157",
   "metadata": {},
   "outputs": [
    {
     "name": "stdout",
     "output_type": "stream",
     "text": [
      "HP LaserJet Flow 8601path=r\"C:\\Users\\Admin\\Desktop\\HP LaserJet Flow 8601.txt\"file=open(path)data=file.read()for i in data:    print(i,end=\"\")"
     ]
    }
   ],
   "source": [
    "path=r\"C:\\Users\\Admin\\Desktop\\HP LaserJet Flow 8601.txt\"\n",
    "file=open(path)\n",
    "data=file.read()\n",
    "for i in data.split('\\n'):\n",
    "    print(i,end='')"
   ]
  },
  {
   "cell_type": "code",
   "execution_count": 92,
   "id": "8434348d-2198-4e7f-b1a8-91df362b3424",
   "metadata": {},
   "outputs": [
    {
     "name": "stdout",
     "output_type": "stream",
     "text": [
      "HP LaserJet Flow 8601\n",
      "\n",
      "\n",
      "\n",
      "\n",
      "path=r\"C:\\Users\\Admin\\Desktop\\HP LaserJet Flow 8601.txt\"\n",
      "file=open(path)\n",
      "data=file.read()\n",
      "for i in data:\n",
      "    print(i,end=\"\")\n",
      "\n"
     ]
    }
   ],
   "source": [
    "path=r\"C:\\Users\\Admin\\Desktop\\HP LaserJet Flow 8601.txt\"\n",
    "file=open(path,mode='r',encoding='utf-8-sig')\n",
    "data=file.read()\n",
    "for i in data.split('\\n'):\n",
    "    print(i)"
   ]
  },
  {
   "cell_type": "code",
   "execution_count": 94,
   "id": "936fa0df-de99-476f-ad69-ced3ff65adc7",
   "metadata": {},
   "outputs": [
    {
     "name": "stdout",
     "output_type": "stream",
     "text": [
      "HP LaserJet Flow 8601\n",
      "\n",
      "\n",
      "\n",
      "\n",
      "\n",
      "\n",
      "\n",
      "\n",
      "\n",
      "path=r\"C:\\Users\\Admin\\Desktop\\HP LaserJet Flow 8601.txt\"\n",
      "\n",
      "file=open(path)\n",
      "\n",
      "data=file.read()\n",
      "\n",
      "for i in data:\n",
      "\n",
      "    print(i,end=\"\")\n",
      "\n",
      "\n",
      "\n",
      "\n",
      "\n",
      "\n",
      "\n",
      "path=r\"C:\\Users\\Admin\\Desktop\\HP LaserJet Flow 8601.txt\"\n",
      "\n",
      "file=open(path)\n",
      "\n",
      "data=file.read()\n",
      "\n",
      "for i in data:\n",
      "\n",
      "    print(i,end=\"\")\n",
      "\n",
      "\n",
      "\n",
      "\n",
      "\n",
      "path=r\"C:\\Users\\Admin\\Desktop\\HP LaserJet Flow 8601.txt\"\n",
      "\n",
      "file=open(path)\n",
      "\n",
      "data=file.read()\n",
      "\n",
      "for i in data:\n",
      "\n",
      "    print(i,end=\"\")\n",
      "\n"
     ]
    }
   ],
   "source": [
    "path=r\"C:\\Users\\Admin\\Desktop\\HP LaserJet Flow 8601.txt\"\n",
    "file=open(path,mode='r',encoding='utf-8-sig')\n",
    "for i in file:\n",
    "    print(i)"
   ]
  },
  {
   "cell_type": "code",
   "execution_count": 96,
   "id": "c173de0a-e96b-4a12-a106-16b4b59c635e",
   "metadata": {},
   "outputs": [
    {
     "data": {
      "text/plain": [
       "'C:\\\\Users\\\\Admin\\\\Documents\\\\Python\\\\DS'"
      ]
     },
     "execution_count": 96,
     "metadata": {},
     "output_type": "execute_result"
    }
   ],
   "source": [
    "import os\n",
    "os.getcwd()"
   ]
  },
  {
   "cell_type": "code",
   "execution_count": null,
   "id": "0f723ddf-d1c2-48c6-938c-2f16cb0b4ce5",
   "metadata": {},
   "outputs": [],
   "source": []
  }
 ],
 "metadata": {
  "kernelspec": {
   "display_name": "Python 3 (ipykernel)",
   "language": "python",
   "name": "python3"
  },
  "language_info": {
   "codemirror_mode": {
    "name": "ipython",
    "version": 3
   },
   "file_extension": ".py",
   "mimetype": "text/x-python",
   "name": "python",
   "nbconvert_exporter": "python",
   "pygments_lexer": "ipython3",
   "version": "3.12.7"
  }
 },
 "nbformat": 4,
 "nbformat_minor": 5
}
