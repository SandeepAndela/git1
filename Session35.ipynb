{
 "cells": [
  {
   "cell_type": "code",
   "execution_count": null,
   "id": "a495a158-7ae3-49dc-a24a-1a38ec6093a8",
   "metadata": {},
   "outputs": [],
   "source": [
    "# 10) \n",
    "# you have two lists\n",
    "# qns=['What is capital of India',\n",
    "            'Who is PM of india',\n",
    "            'Who is ICT ODI captain']\n",
    "# ans=['Delhi','Modi','Rohit']\n",
    "\n",
    "\n",
    "# For i in qns:\n",
    "#    print(i)\n",
    "#    ans=delhi\n",
    "#    index should match\n",
    "#    delhi modi\n",
    "#    marks=marks+1\n",
    "# print the total marks\n"
   ]
  },
  {
   "cell_type": "code",
   "execution_count": 1,
   "id": "de992553-df4e-48d1-ab0d-9c86ee311214",
   "metadata": {},
   "outputs": [
    {
     "name": "stdin",
     "output_type": "stream",
     "text": [
      "What is capital of India delhi\n",
      "Who is PM of india modi\n",
      "Who is ICT ODI captain rohit\n"
     ]
    },
    {
     "data": {
      "text/plain": [
       "'rohit'"
      ]
     },
     "execution_count": 1,
     "metadata": {},
     "output_type": "execute_result"
    }
   ],
   "source": [
    "qns=['What is capital of India',\n",
    "        'Who is PM of india',\n",
    "        'Who is ICT ODI captain']\n",
    "ans=['Delhi','Modi','Rohit']\n",
    "for i in qns:\n",
    "    ans=input(i)\n",
    "\n",
    "ans"
   ]
  },
  {
   "cell_type": "code",
   "execution_count": 1,
   "id": "0a1059e4-ca69-45e2-96da-8b76ad08f59e",
   "metadata": {},
   "outputs": [
    {
     "name": "stdin",
     "output_type": "stream",
     "text": [
      "What is capital of India delhi\n",
      "Who is PM of india modi\n",
      "Who is ICT ODI captain rohit\n"
     ]
    },
    {
     "name": "stdout",
     "output_type": "stream",
     "text": [
      "The total marks are: 3\n"
     ]
    }
   ],
   "source": [
    "qns_list=['What is capital of India',\n",
    "        'Who is PM of india',\n",
    "        'Who is ICT ODI captain']\n",
    "ans_list=['Delhi','Modi','Rohit']\n",
    "marks=0\n",
    "for i in range(len(qns_list)):\n",
    "    ans=input(qns_list[i])\n",
    "    if ans.lower()==ans_list[i].lower():\n",
    "        marks=marks+1\n",
    "\n",
    "print(\"The total marks are:\",marks)"
   ]
  },
  {
   "cell_type": "code",
   "execution_count": 2,
   "id": "07be9f56-9a7b-4d1a-a8fb-cbf34cc59821",
   "metadata": {},
   "outputs": [
    {
     "name": "stdin",
     "output_type": "stream",
     "text": [
      "What is capital of India delhi\n",
      "Who is PM of india modi\n",
      "Who is ICT ODI captain rohit\n"
     ]
    },
    {
     "name": "stdout",
     "output_type": "stream",
     "text": [
      "The total marks are: 3\n"
     ]
    }
   ],
   "source": [
    "qns_list=['What is capital of India',\n",
    "        'Who is PM of india',\n",
    "        'Who is ICT ODI captain']\n",
    "ans_list=['Delhi','Modi','Rohit']\n",
    "marks=0\n",
    "for i in range(len(qns_list)):\n",
    "    ans=input(qns_list[i])\n",
    "    if ans.casefold()==ans_list[i].casefold():\n",
    "        marks=marks+1\n",
    "\n",
    "print(\"The total marks are:\",marks)"
   ]
  },
  {
   "cell_type": "code",
   "execution_count": 5,
   "id": "2f9a26a9-ae3e-454e-ad5a-16a4656a5eca",
   "metadata": {},
   "outputs": [
    {
     "name": "stdin",
     "output_type": "stream",
     "text": [
      "What is capital of India dfghjk\n",
      "Who is PM of india dfghj\n",
      "Who is ICT ODI captain rohit\n"
     ]
    },
    {
     "name": "stdout",
     "output_type": "stream",
     "text": [
      "The total marks are: 1\n"
     ]
    }
   ],
   "source": [
    "qns_list=['What is capital of India',\n",
    "        'Who is PM of india',\n",
    "        'Who is ICT ODI captain']\n",
    "ans_list=['Delhi','Modi','Rohit']\n",
    "marks=0\n",
    "correct_ans=0\n",
    "wrong_ans=0\n",
    "for i in range(len(qns_list)):\n",
    "    ans=input(qns_list[i])\n",
    "    if ans.casefold()==ans_list[i].casefold():\n",
    "        marks=marks+1\n",
    "        correct_ans=correct_ans+1\n",
    "    else:\n",
    "        wrong_ans=wrong_ans+1\n",
    "\n",
    "print(\"The total marks are:\",marks)\n",
    "\n",
    "# step-1: we are iterating through qns list\n",
    "# step-2: we rae taking each qns and we are providibf the answer\n",
    "# step-3 That answer == anslist\n"
   ]
  },
  {
   "cell_type": "code",
   "execution_count": 6,
   "id": "778378c7-57f1-4d85-8f51-2d20e1e519ff",
   "metadata": {},
   "outputs": [
    {
     "data": {
      "text/plain": [
       "'rohit'"
      ]
     },
     "execution_count": 6,
     "metadata": {},
     "output_type": "execute_result"
    }
   ],
   "source": [
    "ans"
   ]
  },
  {
   "cell_type": "code",
   "execution_count": 7,
   "id": "db0f3eda-220b-4333-ba03-b7b3d24a49b5",
   "metadata": {},
   "outputs": [
    {
     "data": {
      "text/plain": [
       "['__add__',\n",
       " '__class__',\n",
       " '__class_getitem__',\n",
       " '__contains__',\n",
       " '__delattr__',\n",
       " '__delitem__',\n",
       " '__dir__',\n",
       " '__doc__',\n",
       " '__eq__',\n",
       " '__format__',\n",
       " '__ge__',\n",
       " '__getattribute__',\n",
       " '__getitem__',\n",
       " '__getstate__',\n",
       " '__gt__',\n",
       " '__hash__',\n",
       " '__iadd__',\n",
       " '__imul__',\n",
       " '__init__',\n",
       " '__init_subclass__',\n",
       " '__iter__',\n",
       " '__le__',\n",
       " '__len__',\n",
       " '__lt__',\n",
       " '__mul__',\n",
       " '__ne__',\n",
       " '__new__',\n",
       " '__reduce__',\n",
       " '__reduce_ex__',\n",
       " '__repr__',\n",
       " '__reversed__',\n",
       " '__rmul__',\n",
       " '__setattr__',\n",
       " '__setitem__',\n",
       " '__sizeof__',\n",
       " '__str__',\n",
       " '__subclasshook__',\n",
       " 'append',\n",
       " 'clear',\n",
       " 'copy',\n",
       " 'count',\n",
       " 'extend',\n",
       " 'index',\n",
       " 'insert',\n",
       " 'pop',\n",
       " 'remove',\n",
       " 'reverse',\n",
       " 'sort']"
      ]
     },
     "execution_count": 7,
     "metadata": {},
     "output_type": "execute_result"
    }
   ],
   "source": [
    "dir([])"
   ]
  },
  {
   "cell_type": "code",
   "execution_count": null,
   "id": "7a48599a-cc88-4254-b7af-33ae69026e79",
   "metadata": {},
   "outputs": [],
   "source": [
    "'clear',\n",
    "'copy',\n",
    "'count',\n",
    "'extend',\n",
    "'index',\n",
    "'insert',\n",
    "'pop',\n",
    "'remove',\n",
    "'reverse',\n",
    "'sort'\n",
    "\n",
    "\n",
    "# Append vs extend vs concatenation vs insert\n",
    "# pop vs remove\n",
    "# reverse vs reversed\n",
    "# sort vs sorted\n",
    "# index \n",
    "# count\n",
    "# clear and copy\n",
    "\n",
    "\n",
    "# metods vs keywords\n",
    "# keywords : inbuilt functions\n",
    "# print() max() min() len(<) sorted(<>) reversed(<l>)\n",
    "# l.copy()\n",
    "# l.clear()"
   ]
  },
  {
   "cell_type": "markdown",
   "id": "58d004ee-f722-446f-8bc4-c5259b693701",
   "metadata": {},
   "source": [
    "**Copy**"
   ]
  },
  {
   "cell_type": "code",
   "execution_count": 10,
   "id": "bbf7e8ee-1fdb-4802-96f4-8315adc9d2fa",
   "metadata": {},
   "outputs": [
    {
     "data": {
      "text/plain": [
       "[1, 2, 3, 100, 200, 80, 70, 60]"
      ]
     },
     "execution_count": 10,
     "metadata": {},
     "output_type": "execute_result"
    }
   ],
   "source": [
    "l1=[1,2,3,100,200,80,70,60]\n",
    "l2=l1.copy()\n",
    "l2"
   ]
  },
  {
   "cell_type": "code",
   "execution_count": 11,
   "id": "94b25838-a965-4a90-a3b4-0f2953732103",
   "metadata": {},
   "outputs": [
    {
     "data": {
      "text/plain": [
       "([1, 2, 3, 100, 200, 80, 70, 60], [1, 2, 3, 100, 200, 80, 70, 60])"
      ]
     },
     "execution_count": 11,
     "metadata": {},
     "output_type": "execute_result"
    }
   ],
   "source": [
    "l1,l2"
   ]
  },
  {
   "cell_type": "code",
   "execution_count": 12,
   "id": "bed5319a-de3c-4531-839e-79a09a1c58a8",
   "metadata": {},
   "outputs": [
    {
     "data": {
      "text/plain": [
       "[]"
      ]
     },
     "execution_count": 12,
     "metadata": {},
     "output_type": "execute_result"
    }
   ],
   "source": [
    "l1.clear()\n",
    "l1"
   ]
  },
  {
   "cell_type": "code",
   "execution_count": 13,
   "id": "801aa763-60ee-44f4-89ee-777866592e23",
   "metadata": {},
   "outputs": [
    {
     "data": {
      "text/plain": [
       "[1, 2, 3, 100, 200, 80, 70, 60]"
      ]
     },
     "execution_count": 13,
     "metadata": {},
     "output_type": "execute_result"
    }
   ],
   "source": [
    "l2"
   ]
  },
  {
   "cell_type": "code",
   "execution_count": 14,
   "id": "36aafb05-a5d6-45cf-9869-1418bf0a3315",
   "metadata": {},
   "outputs": [
    {
     "data": {
      "text/plain": [
       "[]"
      ]
     },
     "execution_count": 14,
     "metadata": {},
     "output_type": "execute_result"
    }
   ],
   "source": [
    "l2.clear()\n",
    "l2"
   ]
  },
  {
   "cell_type": "code",
   "execution_count": 15,
   "id": "8abed94d-cf02-406b-a7f0-0299f89de1cf",
   "metadata": {},
   "outputs": [
    {
     "data": {
      "text/plain": [
       "([], [])"
      ]
     },
     "execution_count": 15,
     "metadata": {},
     "output_type": "execute_result"
    }
   ],
   "source": [
    "l1,l2"
   ]
  },
  {
   "cell_type": "code",
   "execution_count": 16,
   "id": "2d99f413-9e70-406f-9c30-497c91472906",
   "metadata": {},
   "outputs": [
    {
     "name": "stdout",
     "output_type": "stream",
     "text": [
      "<class 'list'>\n"
     ]
    }
   ],
   "source": [
    "print(type([]))"
   ]
  },
  {
   "cell_type": "markdown",
   "id": "c09eaa2a-ac93-468f-a9ed-b5a4efa42ccf",
   "metadata": {},
   "source": [
    "**append-extend-concatenation-insert**"
   ]
  },
  {
   "cell_type": "code",
   "execution_count": 17,
   "id": "7b9984f8-4ea0-4ae1-9fef-a963fc1c9715",
   "metadata": {},
   "outputs": [
    {
     "name": "stdout",
     "output_type": "stream",
     "text": [
      "[1, 2, 3, 4, 'A', 'B', 'C', 'D']\n",
      "['A', 'B', 'C', 'D']\n"
     ]
    }
   ],
   "source": [
    "l1=[1,2,3,4]\n",
    "l2=['A','B','C','D']\n",
    "l1.extend(l2)\n",
    "print(l1)\n",
    "print(l2)"
   ]
  },
  {
   "cell_type": "code",
   "execution_count": 18,
   "id": "c0ed3347-39d7-46ed-b39c-97c2bdaecc9c",
   "metadata": {},
   "outputs": [
    {
     "data": {
      "text/plain": [
       "[1, 2, 3, 4, 'A', 'B', 'C', 'D']"
      ]
     },
     "execution_count": 18,
     "metadata": {},
     "output_type": "execute_result"
    }
   ],
   "source": [
    "l1=[1,2,3,4]\n",
    "l2=['A','B','C','D']\n",
    "l1+l2"
   ]
  },
  {
   "cell_type": "code",
   "execution_count": 19,
   "id": "16f98ac2-193b-4b75-92d8-ca2fb7c17a73",
   "metadata": {},
   "outputs": [
    {
     "name": "stdout",
     "output_type": "stream",
     "text": [
      "[1, 2, 3, 4]\n",
      "['A', 'B', 'C', 'D']\n"
     ]
    }
   ],
   "source": [
    "l1=[1,2,3,4]\n",
    "l2=['A','B','C','D']\n",
    "l1+l2\n",
    "print(l1)\n",
    "print(l2)"
   ]
  },
  {
   "cell_type": "code",
   "execution_count": 21,
   "id": "50cc7854-2b98-43df-bb74-6381ff6928c2",
   "metadata": {},
   "outputs": [
    {
     "name": "stdout",
     "output_type": "stream",
     "text": [
      "[1, 2, 3, 4, ['A', 'B', 'C', 'D']]\n",
      "['A', 'B', 'C', 'D']\n"
     ]
    }
   ],
   "source": [
    "l1=[1,2,3,4]\n",
    "l2=['A','B','C','D']\n",
    "l1.append(l2)\n",
    "print(l1)\n",
    "print(l2)"
   ]
  },
  {
   "cell_type": "code",
   "execution_count": 22,
   "id": "002b5eb9-0219-41fc-accf-dbe231fc009b",
   "metadata": {},
   "outputs": [
    {
     "name": "stdout",
     "output_type": "stream",
     "text": [
      "[1, 2, 3, 4]\n",
      "['A', 'B', 'C', 'D', 1, 2, 3, 4]\n"
     ]
    }
   ],
   "source": [
    "l1=[1,2,3,4]\n",
    "l2=['A','B','C','D']\n",
    "l2.extend(l1)\n",
    "print(l1)\n",
    "print(l2)"
   ]
  },
  {
   "cell_type": "code",
   "execution_count": 23,
   "id": "3835d606-fd43-4e02-8360-a1ae3daf1727",
   "metadata": {},
   "outputs": [
    {
     "name": "stdout",
     "output_type": "stream",
     "text": [
      "[1, 2, 3, 4, 'A', 'B', 'C', 'D']\n",
      "['A', 'B', 'C', 'D', 1, 2, 3, 4]\n",
      "[1, 2, 3, 4]\n",
      "['A', 'B', 'C', 'D']\n"
     ]
    }
   ],
   "source": [
    "l1=[1,2,3,4]\n",
    "l2=['A','B','C','D']\n",
    "print(l1+l2)\n",
    "print(l2+l1)\n",
    "print(l1)\n",
    "print(l2)"
   ]
  },
  {
   "cell_type": "code",
   "execution_count": 24,
   "id": "60fdc749-9b5a-4ce5-85ce-1350bb483b5c",
   "metadata": {},
   "outputs": [
    {
     "data": {
      "text/plain": [
       "[1, 2, 3, 4, 'a', 'p', 'p', 'l', 'e']"
      ]
     },
     "execution_count": 24,
     "metadata": {},
     "output_type": "execute_result"
    }
   ],
   "source": [
    "l1=[1,2,3,4]\n",
    "l1.extend('apple')\n",
    "l1"
   ]
  },
  {
   "cell_type": "code",
   "execution_count": 27,
   "id": "b451f372-e030-4fc2-8bea-7fdf6cb4beb7",
   "metadata": {},
   "outputs": [
    {
     "data": {
      "text/plain": [
       "[1, 2, 3, 4, 10, 20, 30, 40]"
      ]
     },
     "execution_count": 27,
     "metadata": {},
     "output_type": "execute_result"
    }
   ],
   "source": [
    "l1=[1,2,3,4]\n",
    "l1.extend((10,20,30,40))\n",
    "l1"
   ]
  },
  {
   "cell_type": "markdown",
   "id": "03ecc2d4-3c2d-4bb1-933d-1dfc135826b7",
   "metadata": {},
   "source": [
    "- append just append the value with base data type\n",
    "- extend is concatenate the vale,and the list will be overwrite with new values\n",
    "- extend can take any iterable format type i.e. string,list,tuple\n",
    "- extend and concatenation both are same\n",
    "- the list will not overwrite in concatenation"
   ]
  },
  {
   "cell_type": "markdown",
   "id": "6be85b98-1f0c-4570-bf53-f5fc240678d1",
   "metadata": {},
   "source": [
    "**index**"
   ]
  },
  {
   "cell_type": "markdown",
   "id": "04b37494-ecfe-498f-be5e-7f8aba9a44f0",
   "metadata": {},
   "source": [
    "- same like string only\n"
   ]
  },
  {
   "cell_type": "code",
   "execution_count": 29,
   "id": "509787d4-d379-4d16-bf7a-fb0a6bbfd06d",
   "metadata": {},
   "outputs": [
    {
     "data": {
      "text/plain": [
       "(3, 6)"
      ]
     },
     "execution_count": 29,
     "metadata": {},
     "output_type": "execute_result"
    }
   ],
   "source": [
    "l1=[1,2,3,'Apple',10,20,'Apple',40]\n",
    "l1.index(2)\n",
    "i1=l1.index('Apple')\n",
    "i2=l1.index('Apple',i1+1)\n",
    "i1,i2"
   ]
  },
  {
   "cell_type": "code",
   "execution_count": 31,
   "id": "372e33d8-5357-4f7c-8850-a761425b9900",
   "metadata": {},
   "outputs": [
    {
     "data": {
      "text/plain": [
       "6"
      ]
     },
     "execution_count": 31,
     "metadata": {},
     "output_type": "execute_result"
    }
   ],
   "source": [
    "l1.index('Apple',l1.index('Apple')+1)"
   ]
  },
  {
   "cell_type": "code",
   "execution_count": 35,
   "id": "9b51d58e-2570-44db-aed8-b93b81aa18c8",
   "metadata": {},
   "outputs": [
    {
     "name": "stdout",
     "output_type": "stream",
     "text": [
      "3\n"
     ]
    },
    {
     "data": {
      "text/plain": [
       "3"
      ]
     },
     "execution_count": 35,
     "metadata": {},
     "output_type": "execute_result"
    }
   ],
   "source": [
    "l1=[1,2,3,'Apple',10,20,'Apple',40]\n",
    "i1=l1.index('Apple')\n",
    "print(i1)\n",
    "i2=l1.index('Apple',i1+1)\n",
    "i2\n",
    "i3=l1.index('Apple',2,5)\n",
    "i3"
   ]
  },
  {
   "cell_type": "markdown",
   "id": "4f50c657-fe4e-400c-86e0-3b6d5ee0801c",
   "metadata": {},
   "source": [
    "- case-1: Directly get the index\n",
    "- case-2: next value index,by providing start\n",
    "- case-3: Between the values"
   ]
  },
  {
   "cell_type": "code",
   "execution_count": null,
   "id": "caa0c4b5-5345-4015-b02f-e8c9ced2b343",
   "metadata": {},
   "outputs": [],
   "source": []
  }
 ],
 "metadata": {
  "kernelspec": {
   "display_name": "Python 3 (ipykernel)",
   "language": "python",
   "name": "python3"
  },
  "language_info": {
   "codemirror_mode": {
    "name": "ipython",
    "version": 3
   },
   "file_extension": ".py",
   "mimetype": "text/x-python",
   "name": "python",
   "nbconvert_exporter": "python",
   "pygments_lexer": "ipython3",
   "version": "3.12.4"
  }
 },
 "nbformat": 4,
 "nbformat_minor": 5
}
