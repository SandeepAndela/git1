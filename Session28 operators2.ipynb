{
 "cells": [
  {
   "cell_type": "markdown",
   "id": "d930b128-38e3-4e8d-ba5a-31a2658ea5e3",
   "metadata": {},
   "source": [
    "**Mutable and Immutable**\n",
    "\n",
    "# Mutable: it can change\n",
    "# we can not change using indexing\n",
    "# Immutable : it can not change\n",
    "# we can not change using indexing\n"
   ]
  },
  {
   "cell_type": "code",
   "execution_count": 11,
   "id": "260f48a0-ebbf-4de8-af8b-e0281d2315a3",
   "metadata": {},
   "outputs": [
    {
     "data": {
      "text/plain": [
       "'c'"
      ]
     },
     "execution_count": 11,
     "metadata": {},
     "output_type": "execute_result"
    }
   ],
   "source": [
    "s='Welcome'\n",
    "\n",
    "s[3]\n",
    "\n",
    "#Strings are immutable"
   ]
  },
  {
   "cell_type": "code",
   "execution_count": 17,
   "id": "fcc86ecd-a810-47c1-a3a1-0da3beecb96a",
   "metadata": {},
   "outputs": [
    {
     "ename": "TypeError",
     "evalue": "'str' object does not support item assignment",
     "output_type": "error",
     "traceback": [
      "\u001b[1;31m---------------------------------------------------------------------------\u001b[0m",
      "\u001b[1;31mTypeError\u001b[0m                                 Traceback (most recent call last)",
      "Cell \u001b[1;32mIn[17], line 3\u001b[0m\n\u001b[0;32m      1\u001b[0m s\u001b[38;5;241m=\u001b[39m\u001b[38;5;124m'\u001b[39m\u001b[38;5;124mWelcome\u001b[39m\u001b[38;5;124m'\u001b[39m\n\u001b[1;32m----> 3\u001b[0m s[\u001b[38;5;241m3\u001b[39m]\u001b[38;5;241m=\u001b[39m\u001b[38;5;124m'\u001b[39m\u001b[38;5;124mC\u001b[39m\u001b[38;5;124m'\u001b[39m\n",
      "\u001b[1;31mTypeError\u001b[0m: 'str' object does not support item assignment"
     ]
    }
   ],
   "source": [
    "s='Welcome'\n",
    "\n",
    "s[3]='C'"
   ]
  },
  {
   "cell_type": "markdown",
   "id": "af3c392f-8a17-4efe-8f5b-12f39ce99146",
   "metadata": {},
   "source": [
    "**Strings are immutable**"
   ]
  },
  {
   "cell_type": "code",
   "execution_count": 28,
   "id": "15920f4d-00fd-4ca8-9cfa-b3d050f1974a",
   "metadata": {},
   "outputs": [
    {
     "data": {
      "text/plain": [
       "[10, 200, 30, 40]"
      ]
     },
     "execution_count": 28,
     "metadata": {},
     "output_type": "execute_result"
    }
   ],
   "source": [
    "l=[10,20,30,40]\n",
    "\n",
    "l[1]=200\n",
    "\n",
    "l"
   ]
  },
  {
   "cell_type": "markdown",
   "id": "ac8786ec-0b25-4542-8d9f-b0942c3b1f7b",
   "metadata": {},
   "source": [
    "- range belongs to which family\n",
    "    - Math family\n",
    "- Inside range bracket what we need to provide\n",
    "    - number\n",
    "- How many numbers we need to provide\n",
    "    - Number of letters : len(string)\n",
    "- How to access the letter using number\n",
    "    - by using index\n",
    "            "
   ]
  },
  {
   "cell_type": "code",
   "execution_count": 31,
   "id": "3cdb5a1b-69f4-4e65-9150-e39fe18c0de9",
   "metadata": {},
   "outputs": [
    {
     "name": "stdout",
     "output_type": "stream",
     "text": [
      "w\n",
      "e\n",
      "l\n",
      "c\n",
      "o\n",
      "m\n",
      "e\n"
     ]
    }
   ],
   "source": [
    "# Q4) print each letter using for loop range\n",
    "s='Welcome'\n",
    "# range belongs to which family\n",
    "# inside bracket we need to provide a number\n",
    "# How many numbers we need to provide \n",
    "#      number of letters=7\n",
    "# How to access a letter using number\n",
    "\n",
    "s='welcome'\n",
    "for i in range(7):\n",
    "    print(s[i])"
   ]
  },
  {
   "cell_type": "code",
   "execution_count": 33,
   "id": "56dbe9ff-f82d-4d45-9704-1c08f23a48eb",
   "metadata": {},
   "outputs": [
    {
     "name": "stdout",
     "output_type": "stream",
     "text": [
      "W\n",
      "e\n",
      "l\n",
      "c\n",
      "o\n",
      "m\n",
      "e\n",
      " \n",
      "t\n",
      "o\n",
      " \n",
      "R\n",
      "D\n",
      "L\n",
      " \n",
      "F\n",
      "a\n",
      "m\n",
      "i\n",
      "l\n",
      "y\n"
     ]
    }
   ],
   "source": [
    "s='Welcome to RDL Family'\n",
    "n=len(s)\n",
    "for i in range(n):\n",
    "    print(s[i])"
   ]
  },
  {
   "cell_type": "markdown",
   "id": "1a2a1c5f-36fd-4532-9025-e3c0e35929c8",
   "metadata": {},
   "source": [
    "- **for-in directly access the letters**\n",
    "- **for-range will access using index**"
   ]
  },
  {
   "cell_type": "code",
   "execution_count": 38,
   "id": "dd4a1645-a366-46e4-8074-71fbf63a7304",
   "metadata": {},
   "outputs": [
    {
     "name": "stdout",
     "output_type": "stream",
     "text": [
      "s\n",
      "a\n",
      "n\n",
      "d\n",
      "e\n",
      "e\n",
      "p\n"
     ]
    }
   ],
   "source": [
    "s='sandeep'\n",
    "for i in (s):\n",
    "    print(i)"
   ]
  },
  {
   "cell_type": "code",
   "execution_count": 50,
   "id": "d62e5cbe-1274-4de9-a8d3-f0457ecb9bcf",
   "metadata": {},
   "outputs": [
    {
     "name": "stdout",
     "output_type": "stream",
     "text": [
      "0 W\n",
      "The positive index of W is 0 \n",
      "1 e\n",
      "The positive index of e is 1 \n",
      "2 l\n",
      "The positive index of l is 2 \n",
      "3 c\n",
      "The positive index of c is 3 \n",
      "4 o\n",
      "The positive index of o is 4 \n",
      "5 m\n",
      "The positive index of m is 5 \n",
      "6 e\n",
      "The positive index of e is 6 \n"
     ]
    }
   ],
   "source": [
    "# Q5) Wap ask the user iterate using a string\n",
    "# string ='Welcome'\n",
    "# print the positive index of w is 0\n",
    "# print tthe positive index of e is 1\n",
    "#print the positive index of l is 1\n",
    "\n",
    "\n",
    "# Q6) Wap ask the user iterate using a string\n",
    "# string ='Welcome'\n",
    "# print the negative index of w is -7\n",
    "# print tthe negative index of e is -6\n",
    "#print the negative index of l is -5\n",
    "\n",
    "\n",
    "s='Welcome'\n",
    "for i in range(len(s)):\n",
    "    print(i,s[i])\n",
    "    print(f\"The positive index of {s[i]} is {i} \")"
   ]
  },
  {
   "cell_type": "code",
   "execution_count": 56,
   "id": "d87692b5-34bb-4ed6-b331-c8d9237c1440",
   "metadata": {},
   "outputs": [
    {
     "name": "stdout",
     "output_type": "stream",
     "text": [
      "0 -7\n",
      "The positive index of W is -7 \n",
      "1 -6\n",
      "The positive index of e is -6 \n",
      "2 -5\n",
      "The positive index of l is -5 \n",
      "3 -4\n",
      "The positive index of c is -4 \n",
      "4 -3\n",
      "The positive index of o is -3 \n",
      "5 -2\n",
      "The positive index of m is -2 \n",
      "6 -1\n",
      "The positive index of e is -1 \n"
     ]
    }
   ],
   "source": [
    "# Q6) Wap ask the user iterate using a string\n",
    "# string ='Welcome'\n",
    "# print the negative index of w is -7\n",
    "# print tthe negative index of e is -6\n",
    "#print the negative index of l is -5\n",
    "\n",
    "\n",
    "s='Welcome'\n",
    "for i in range(len(s)):\n",
    "    print(i,i-len(s))\n",
    "    print(f\"The positive index of {s[i]} is {i-len(s)} \")"
   ]
  },
  {
   "cell_type": "code",
   "execution_count": 76,
   "id": "cbef9457-18bd-4dd9-9b70-0d623f670502",
   "metadata": {},
   "outputs": [
    {
     "name": "stdout",
     "output_type": "stream",
     "text": [
      "The positive index 0 and the negative index is of -7 for W \n",
      "The positive index 1 and the negative index is of -6 for e \n",
      "The positive index 2 and the negative index is of -5 for l \n",
      "The positive index 3 and the negative index is of -4 for c \n",
      "The positive index 4 and the negative index is of -3 for o \n",
      "The positive index 5 and the negative index is of -2 for m \n",
      "The positive index 6 and the negative index is of -1 for e \n"
     ]
    }
   ],
   "source": [
    "# Q7)Wap ask the user iterate using a string\n",
    "# string ='Welcome'\n",
    "# print the negative index of w is -7\n",
    "# print tthe negative index of e is -6\n",
    "#print the negative index of l is -5\n",
    "# the positive index is 0 and negative index is -7 for w\n",
    "\n",
    "s='Welcome'\n",
    "for i in range(len(s)):\n",
    "    print(f\"The positive index {i} and the negative index is of {i-len(s)} for {s[i]} \")"
   ]
  },
  {
   "cell_type": "code",
   "execution_count": 82,
   "id": "2b066c3e-1348-496f-8ec1-2d9631a17cbc",
   "metadata": {},
   "outputs": [
    {
     "name": "stdout",
     "output_type": "stream",
     "text": [
      "1\n",
      "8\n",
      "18\n"
     ]
    }
   ],
   "source": [
    "# Q9 WAP ask the user get the index of each 'a' in a given string\n",
    "# s='Hai how are you i am good'\n",
    "\n",
    "\n",
    "s='Hai how are you i am good'\n",
    "for i in range(len(s)):\n",
    "    if s[i]=='a':\n",
    "        print(i)\n",
    "   \n",
    "    "
   ]
  },
  {
   "cell_type": "code",
   "execution_count": 86,
   "id": "f0fb859e-cf3d-4cbc-850a-04207f927b17",
   "metadata": {},
   "outputs": [
    {
     "name": "stdout",
     "output_type": "stream",
     "text": [
      "1\n",
      "8\n",
      "18\n"
     ]
    }
   ],
   "source": [
    "\n",
    "\n",
    "s='Hai how are you i am good'\n",
    "for i in range(len(s)):\n",
    "    if s[i]=='a':\n",
    "        print(i)"
   ]
  },
  {
   "cell_type": "code",
   "execution_count": 90,
   "id": "0b0749cd-1c84-4d53-b568-dcf229190bdd",
   "metadata": {},
   "outputs": [
    {
     "name": "stdout",
     "output_type": "stream",
     "text": [
      "3\n"
     ]
    }
   ],
   "source": [
    "#10) Wap ask the user to get count of number of 'a' in a given string \n",
    "# using for-range\n",
    "\n",
    "\n",
    "str1=\"hai sandeep how are you\"\n",
    "count=0\n",
    "for i in range(len(s)):\n",
    "    if s[i]=='a':\n",
    "        count=count+1\n",
    "print(count)"
   ]
  },
  {
   "cell_type": "code",
   "execution_count": 98,
   "id": "f4c2ec4c-4d17-450a-877d-8208f12c0f60",
   "metadata": {},
   "outputs": [
    {
     "data": {
      "text/plain": [
       "22"
      ]
     },
     "execution_count": 98,
     "metadata": {},
     "output_type": "execute_result"
    }
   ],
   "source": [
    "# 11) WAP ask the user get the sum of all index numbers of 'a'\n",
    "# 1+8+18=27\n",
    "\n",
    "s=\"hai sandeep how are you\"\n",
    "summ=0\n",
    "for i in range(len(s)):\n",
    "    if s[i]=='a':\n",
    "        summ=summ+i\n",
    "        \n",
    "summ"
   ]
  },
  {
   "cell_type": "code",
   "execution_count": 103,
   "id": "47f24424-85ce-4204-8e23-8d87d6862cd9",
   "metadata": {},
   "outputs": [
    {
     "name": "stdout",
     "output_type": "stream",
     "text": [
      "a\n",
      "i\n",
      "a\n",
      "e\n",
      "e\n",
      "o\n",
      "a\n",
      "e\n",
      "o\n",
      "u\n",
      "The number of vowels are 10\n"
     ]
    }
   ],
   "source": [
    "# 12) WAP ask the user get the vowels from a given string using for-range\n",
    "\n",
    "s=\"hai sandeep how are you\"\n",
    "count=0\n",
    "for i in range(len(s)):\n",
    "    if s[i] in 'aeiou':\n",
    "        print(s[i])\n",
    "        count=count+1\n",
    "\n",
    "print(f\"The number of vowels are\",count)"
   ]
  },
  {
   "cell_type": "code",
   "execution_count": 107,
   "id": "7d945d77-307a-4de0-a0ef-a8fb9f0ef904",
   "metadata": {},
   "outputs": [
    {
     "name": "stdout",
     "output_type": "stream",
     "text": [
      "a\n",
      "i\n",
      "e\n",
      "o\n",
      "u\n",
      "The number of vowels are 5\n"
     ]
    }
   ],
   "source": [
    "# 12) WAP ask the user get the vowels from a given string using for-range\n",
    "\n",
    "s=\"hai sandeep how are you\"\n",
    "s1=''\n",
    "count=0\n",
    "for i in range(len(s)):\n",
    "    if s[i] not in s1:\n",
    "        if s[i] in 'aeiou':\n",
    "            print(s[i])\n",
    "            s1=s1+s[i]\n",
    "            count=count+1\n",
    "\n",
    "print(f\"The number of vowels are\",count)"
   ]
  },
  {
   "cell_type": "code",
   "execution_count": 109,
   "id": "cd250c02-c8e6-4396-b026-53b254f9e6d1",
   "metadata": {},
   "outputs": [
    {
     "name": "stdout",
     "output_type": "stream",
     "text": [
      "a\n",
      "i\n",
      "e\n",
      "o\n",
      "u\n",
      "The number of vowels are 5\n"
     ]
    }
   ],
   "source": [
    "# 13) Updated one WAP ask the user get the vowels from a given string using for-range\n",
    "\n",
    "s=\"hai sandeep how are you\"\n",
    "s1=''\n",
    "count=0\n",
    "for i in range(len(s)):\n",
    "    if s[i] not in s1 and s[i] in 'aeiou':        \n",
    "        print(s[i])\n",
    "        s1=s1+s[i]\n",
    "        count=count+1\n",
    "\n",
    "print(f\"The number of vowels are\",count)"
   ]
  },
  {
   "cell_type": "code",
   "execution_count": null,
   "id": "2193fbb0-db14-40f9-8b95-0daa82434d5e",
   "metadata": {},
   "outputs": [],
   "source": [
    "# 14)Strin1='ola ola ola'\n",
    "# number os ola =3\n",
    "\n",
    "# 15) String1='hello hello hello how how how how are you'\n",
    "# what is the most repeated word : how\n",
    "\n",
    "# Q16)string1 ='hellooooo how are you'\n",
    "# What is the maximum length of word: helloo\n",
    "# what is the minimum length of word: u\n",
    "\n",
    "\n",
    "#Q17)without using sorted then sort the letters"
   ]
  },
  {
   "cell_type": "code",
   "execution_count": 115,
   "id": "91470ff2-da64-497a-98d1-02ad9f8d14c3",
   "metadata": {},
   "outputs": [
    {
     "ename": "NameError",
     "evalue": "name 'length' is not defined",
     "output_type": "error",
     "traceback": [
      "\u001b[1;31m---------------------------------------------------------------------------\u001b[0m",
      "\u001b[1;31mNameError\u001b[0m                                 Traceback (most recent call last)",
      "Cell \u001b[1;32mIn[115], line 5\u001b[0m\n\u001b[0;32m      1\u001b[0m \u001b[38;5;66;03m# 14)Strin1='ola ola ola'\u001b[39;00m\n\u001b[0;32m      2\u001b[0m \u001b[38;5;66;03m# number os ola =3\u001b[39;00m\n\u001b[0;32m      4\u001b[0m Strin1\u001b[38;5;241m=\u001b[39m\u001b[38;5;124m'\u001b[39m\u001b[38;5;124mola ola ola\u001b[39m\u001b[38;5;124m'\u001b[39m\n\u001b[1;32m----> 5\u001b[0m \u001b[38;5;28;01mfor\u001b[39;00m i \u001b[38;5;129;01min\u001b[39;00m \u001b[38;5;28mrange\u001b[39m(length(Strin1)):\n\u001b[0;32m      6\u001b[0m     \u001b[38;5;28;01mif\u001b[39;00m i \u001b[38;5;129;01min\u001b[39;00m \u001b[38;5;124m'\u001b[39m\u001b[38;5;124mola\u001b[39m\u001b[38;5;124m'\u001b[39m:\n\u001b[0;32m      7\u001b[0m         \u001b[38;5;28mprint\u001b[39m(i)\n",
      "\u001b[1;31mNameError\u001b[0m: name 'length' is not defined"
     ]
    }
   ],
   "source": [
    "# 14)Strin1='ola ola ola'\n",
    "# number os ola =3\n",
    "\n",
    "Strin1='ola ola ola'\n",
    "for i in range(length(Strin1)):\n",
    "    if i in 'ola':\n",
    "        print(i)"
   ]
  },
  {
   "cell_type": "code",
   "execution_count": 121,
   "id": "cdb05e69-b436-4326-a372-19071629bf38",
   "metadata": {},
   "outputs": [
    {
     "name": "stdout",
     "output_type": "stream",
     "text": [
      "3\n"
     ]
    }
   ],
   "source": [
    "# 14)Strin1='ola ola ola'\n",
    "# number os ola =3\n",
    "\n",
    "String1 = 'ola ola ola'\n",
    "count = String1.count('ola')\n",
    "print(count)\n"
   ]
  },
  {
   "cell_type": "code",
   "execution_count": 127,
   "id": "5c1e6e88-3eea-464e-a529-670c48bf4f35",
   "metadata": {},
   "outputs": [],
   "source": [
    "# 15) String1='hello hello hello how how how how are you'\n",
    "# what is the most repeated word : how\n",
    "\n",
    "String1='hello hello hello how how how how are you'\n",
    "for i in range(len(s)):\n",
    "    if i=='how':\n",
    "        count = String1.count('ola')\n",
    "        print(count)"
   ]
  },
  {
   "cell_type": "code",
   "execution_count": 143,
   "id": "243c314b-0703-401a-9d05-3b464610e9cc",
   "metadata": {},
   "outputs": [
    {
     "name": "stdout",
     "output_type": "stream",
     "text": [
      "4\n"
     ]
    }
   ],
   "source": [
    "# 15) String1='hello hello hello how how how how are you'\n",
    "# what is the most repeated word : how\n",
    "String1 = 'hello hello hello how how how how are you'\n",
    "s1 = 'how'\n",
    "count = 0\n",
    "for i in String1.split():\n",
    "    if i== s1:\n",
    "        count=count+1\n",
    "print(count)\n"
   ]
  },
  {
   "cell_type": "code",
   "execution_count": null,
   "id": "f9074e09-ac24-456a-9de1-66fd02884522",
   "metadata": {},
   "outputs": [],
   "source": []
  }
 ],
 "metadata": {
  "kernelspec": {
   "display_name": "Python 3 (ipykernel)",
   "language": "python",
   "name": "python3"
  },
  "language_info": {
   "codemirror_mode": {
    "name": "ipython",
    "version": 3
   },
   "file_extension": ".py",
   "mimetype": "text/x-python",
   "name": "python",
   "nbconvert_exporter": "python",
   "pygments_lexer": "ipython3",
   "version": "3.12.4"
  }
 },
 "nbformat": 4,
 "nbformat_minor": 5
}
